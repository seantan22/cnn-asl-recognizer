{
 "cells": [
  {
   "cell_type": "code",
   "execution_count": 306,
   "metadata": {},
   "outputs": [],
   "source": [
    "import math\n",
    "import numpy as np\n",
    "import h5py\n",
    "import matplotlib.pyplot as plt\n",
    "import tensorflow.compat.v1 as tf\n",
    "tf.disable_v2_behavior()\n",
    "from tensorflow.python.framework import ops\n",
    "import tensorflow.keras as keras\n",
    "\n",
    "np.random.seed(1)"
   ]
  },
  {
   "cell_type": "code",
   "execution_count": 307,
   "metadata": {},
   "outputs": [],
   "source": [
    "# Function for loading dataset\n",
    "def load_dataset():\n",
    "    \n",
    "    # load training set\n",
    "    train_dataset = h5py.File('datasets/train_signs.h5', \"r\")\n",
    "    train_x_raw = np.array(train_dataset[\"train_set_x\"][:])\n",
    "    train_y_raw = np.array(train_dataset[\"train_set_y\"][:])\n",
    "    \n",
    "    # load test set\n",
    "    test_dataset = h5py.File('datasets/test_signs.h5', \"r\")\n",
    "    test_x_raw = np.array(test_dataset[\"test_set_x\"][:])\n",
    "    test_y_raw = np.array(test_dataset[\"test_set_y\"][:])\n",
    "    \n",
    "    # get list of classes (0 to 5)\n",
    "    classes = np.array(test_dataset[\"list_classes\"][:])\n",
    "    \n",
    "    # reshape y sets into [1, # of samples]\n",
    "    train_y_raw = train_y_raw.reshape((1, train_y_raw.shape[0]))\n",
    "    test_y_raw = test_y_raw.reshape((1, test_y_raw.shape[0]))\n",
    "    \n",
    "    return train_x_raw, train_y_raw, test_x_raw, test_y_raw, classes"
   ]
  },
  {
   "cell_type": "code",
   "execution_count": 308,
   "metadata": {},
   "outputs": [],
   "source": [
    "# Load data\n",
    "X_train_raw, Y_train_raw, X_test_raw, Y_test_raw, classes = load_dataset()"
   ]
  },
  {
   "cell_type": "code",
   "execution_count": 309,
   "metadata": {},
   "outputs": [],
   "source": [
    "# Function for one-hot-encoding Y datasets\n",
    "def one_hot_encode(Y, num_classes):\n",
    "    Y = np.eye(num_classes)[Y.reshape(-1)].T\n",
    "    return Y"
   ]
  },
  {
   "cell_type": "code",
   "execution_count": 310,
   "metadata": {},
   "outputs": [],
   "source": [
    "# Normalize X datasets (255 RGB values)\n",
    "X_train = X_train_raw / 255\n",
    "X_test = X_test_raw / 255\n",
    "\n",
    "# One-Hot Encode Y datasets\n",
    "Y_train = one_hot_encode(Y_train_raw, 6).T\n",
    "Y_test = one_hot_encode(Y_test_raw, 6).T"
   ]
  },
  {
   "cell_type": "code",
   "execution_count": 311,
   "metadata": {},
   "outputs": [],
   "source": [
    "# Function for initializing placeholders X, Y \n",
    "def init_placeholders(n_h_raw, n_w_raw, n_c_raw, n_y_raw):\n",
    "    \n",
    "    X = tf.placeholder(tf.float32, shape=(None, n_h_raw, n_w_raw, n_c_raw), name=\"X\")\n",
    "    Y = tf.placeholder(tf.float32, shape=(None, n_y_raw), name=\"Y\")\n",
    "    \n",
    "    return X, Y"
   ]
  },
  {
   "cell_type": "code",
   "execution_count": 312,
   "metadata": {},
   "outputs": [],
   "source": [
    "# Function for initializing parameters W1, W2 using xavier/GlorotUniform initialization\n",
    "def init_parameters(w1_hw, w1_c, w1_n, w2_hw, w2_c, w2_n):\n",
    "    \n",
    "    tf.set_random_seed(1)\n",
    "    \n",
    "    W1 = tf.get_variable(\"W1\", [w1_hw, w1_hw, w1_c, w1_n], initializer = keras.initializers.GlorotUniform(seed=0))\n",
    "    W2 = tf.get_variable(\"W2\", [w2_hw, w2_hw, w2_c, w2_n], initializer = keras.initializers.GlorotUniform(seed=0))\n",
    "    \n",
    "    parameters = {\"W1\" : W1, \n",
    "                  \"W2\" : W2}\n",
    "    \n",
    "    return parameters"
   ]
  },
  {
   "cell_type": "code",
   "execution_count": 313,
   "metadata": {},
   "outputs": [],
   "source": [
    "# Function for forward propagation\n",
    "def fwd_prop(X, parameters):\n",
    "    \n",
    "    # Get parameters\n",
    "    W1 = parameters[\"W1\"]\n",
    "    W2 = parameters[\"W2\"]\n",
    "    \n",
    "    ### LAYER I ###\n",
    "    # 2D Convolutional\n",
    "    Z1 = tf.nn.conv2d(X, W1, strides=[1,1,1,1], padding=\"SAME\")\n",
    "    # ReLU\n",
    "    A1 = tf.nn.relu(Z1)\n",
    "    # Max Pooling\n",
    "    P1 = tf.nn.max_pool(A1, ksize=[1,8,8,1], strides=[1,8,8,1], padding=\"SAME\")\n",
    "    \n",
    "    ### LAYER II ###\n",
    "    # 2D Convolutional\n",
    "    Z2 = tf.nn.conv2d(P1, W2, strides=[1,1,1,1], padding=\"SAME\")\n",
    "    # ReLU\n",
    "    A2 = tf.nn.relu(Z2)\n",
    "    # Max Pooling\n",
    "    P2 = tf.nn.max_pool(A2, ksize=[1,4,4,1], strides=[1,4,4,1], padding=\"SAME\")\n",
    "    \n",
    "    ### LAYER III ###\n",
    "    # Flatten\n",
    "    F = keras.layers.Flatten()(P2)\n",
    "    # Fully-Connected\n",
    "    Z3 = keras.layers.Dense(6, activation=None)(F)\n",
    "\n",
    "    return Z3"
   ]
  },
  {
   "cell_type": "code",
   "execution_count": 314,
   "metadata": {},
   "outputs": [],
   "source": [
    "# Compute the cost\n",
    "def compute_cost(Z3, Y):\n",
    "    \n",
    "    cost = tf.reduce_mean(tf.nn.softmax_cross_entropy_with_logits(logits=Z3, labels=Y))\n",
    "    \n",
    "    return cost"
   ]
  },
  {
   "cell_type": "code",
   "execution_count": 315,
   "metadata": {},
   "outputs": [],
   "source": [
    "# Function to return a list of random mini-batches\n",
    "def random_mini_batches(X, Y, mini_batch_size = 64, seed = 0):\n",
    "    m = X.shape[0]\n",
    "    mini_batches = []\n",
    "    np.random.seed(seed)\n",
    "    \n",
    "    # Shuffle X, Y\n",
    "    permutation = list(np.random.permutation(m))\n",
    "    X_shuffled = X[permutation,:,:,:]\n",
    "    Y_shuffled = Y[permutation,:]\n",
    "    \n",
    "    # Partition (excluding end case)\n",
    "    num_full_minibatches = math.floor(m / mini_batch_size)\n",
    "    for k in range(0, num_full_minibatches):\n",
    "        mini_batch_X = X_shuffled[k*mini_batch_size : k*mini_batch_size+mini_batch_size,:,:,:]\n",
    "        mini_batch_Y = Y_shuffled[k*mini_batch_size : k*mini_batch_size+mini_batch_size,:]\n",
    "        mini_batch = (mini_batch_X, mini_batch_Y)\n",
    "        mini_batches.append(mini_batch)\n",
    "    \n",
    "    # End case\n",
    "    if m % mini_batch_size != 0:\n",
    "        mini_batch_X = X_shuffled[num_full_minibatches * mini_batch_size : m,:,:,:]\n",
    "        mini_batch_Y = Y_shuffled[num_full_minibatches * mini_batch_size : m,:]\n",
    "        mini_batch = (mini_batch_X, mini_batch_Y)\n",
    "        mini_batches.append(mini_batch)\n",
    "    \n",
    "    return mini_batches"
   ]
  },
  {
   "cell_type": "code",
   "execution_count": 317,
   "metadata": {},
   "outputs": [],
   "source": [
    "# Model\n",
    "def model(X_train, Y_train, X_test, Y_test, learning_rate=0.009, num_epochs = 100, minibatch_size = 64, print_cost = True):\n",
    "    \n",
    "    ops.reset_default_graph() \n",
    "    tf.set_random_seed(1)\n",
    "    seed = 3\n",
    "    \n",
    "    (m, n_H0, n_W0, n_C0) = X_train.shape\n",
    "    n_y = Y_train.shape[1]\n",
    "    costs = []\n",
    "    \n",
    "    # Initialize placeholders\n",
    "    X, Y = init_placeholders(n_H0, n_W0, n_C0, n_y)\n",
    "    \n",
    "    # Initialize parameters\n",
    "    parameters = init_parameters(4, 3, 8, 2, 8, 16)\n",
    "    \n",
    "    # Forward propagation\n",
    "    Z3 = fwd_prop(X, parameters)\n",
    "    \n",
    "    # Cost function\n",
    "    cost = compute_cost(Z3, Y)\n",
    "    \n",
    "    # Backward propagation\n",
    "    optimizer = tf.train.AdamOptimizer(learning_rate=learning_rate).minimize(cost)\n",
    "    \n",
    "    # Initialize all variables globally\n",
    "    init = tf.global_variables_initializer()\n",
    "    \n",
    "    # Start session\n",
    "    with tf.Session() as sess:\n",
    "        \n",
    "        # Run initialization\n",
    "        sess.run(init)\n",
    "        \n",
    "        # Training loop\n",
    "        for epoch in range(num_epochs):\n",
    "            \n",
    "            minibatch_cost = 0.\n",
    "            num_minibatches = int(m / minibatch_size)\n",
    "            seed = seed + 1\n",
    "            minibatches = random_mini_batches(X_train, Y_train, minibatch_size, seed)\n",
    "            \n",
    "            for minibatch in minibatches:\n",
    "                \n",
    "                (minibatch_X, minibatch_Y) = minibatch\n",
    "                _ , temp_cost = sess.run([optimizer, cost], feed_dict={X:minibatch_X, Y:minibatch_Y})\n",
    "                minibatch_cost += temp_cost / num_minibatches\n",
    "            \n",
    "            # Print updates\n",
    "            if print_cost == True and epoch % 5 == 0:\n",
    "                print (\"Cost after epoch %i: %f\" % (epoch, minibatch_cost))\n",
    "            if print_cost == True and epoch % 1 == 0:\n",
    "                costs.append(minibatch_cost)\n",
    "        \n",
    "        # Plot learning rate\n",
    "        plt.plot(np.squeeze(costs))\n",
    "        plt.ylabel('Cost')\n",
    "        plt.xlabel('Iterations (per tens)')\n",
    "        plt.title(\"Learning Rate =\" + str(learning_rate))\n",
    "        plt.grid(b=None, which='major')\n",
    "        plt.show()\n",
    "            \n",
    "        predict_op = tf.argmax(Z3, 1)\n",
    "        correct_prediction = tf.equal(predict_op, tf.argmax(Y, 1))\n",
    "\n",
    "        accuracy = tf.reduce_mean(tf.cast(correct_prediction, \"float\"))\n",
    "        train_accuracy = accuracy.eval({X: X_train, Y: Y_train})\n",
    "        test_accuracy = accuracy.eval({X: X_test, Y: Y_test})\n",
    "        print(\"Train Accuracy:\", train_accuracy)\n",
    "        print(\"Test Accuracy:\", test_accuracy)\n",
    "\n",
    "        return train_accuracy, test_accuracy, parameters       "
   ]
  },
  {
   "cell_type": "code",
   "execution_count": null,
   "metadata": {
    "scrolled": true
   },
   "outputs": [
    {
     "name": "stdout",
     "output_type": "stream",
     "text": [
      "Cost after epoch 0: 1.912231\n"
     ]
    }
   ],
   "source": [
    "_, _, parameters = model(X_train, Y_train, X_test, Y_test)"
   ]
  }
 ],
 "metadata": {
  "kernelspec": {
   "display_name": "Python 3",
   "language": "python",
   "name": "python3"
  },
  "language_info": {
   "codemirror_mode": {
    "name": "ipython",
    "version": 3
   },
   "file_extension": ".py",
   "mimetype": "text/x-python",
   "name": "python",
   "nbconvert_exporter": "python",
   "pygments_lexer": "ipython3",
   "version": "3.7.6"
  }
 },
 "nbformat": 4,
 "nbformat_minor": 4
}
