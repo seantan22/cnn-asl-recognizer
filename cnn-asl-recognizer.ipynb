{
 "cells": [
  {
   "cell_type": "code",
   "execution_count": 277,
   "metadata": {},
   "outputs": [],
   "source": [
    "import math\n",
    "import numpy as np\n",
    "import h5py\n",
    "import matplotlib.pyplot as plt\n",
    "import tensorflow.compat.v1 as tf\n",
    "tf.disable_v2_behavior()\n",
    "from tensorflow.python.framework import ops\n",
    "import tensorflow.keras as keras\n",
    "\n",
    "np.random.seed(1)"
   ]
  },
  {
   "cell_type": "code",
   "execution_count": null,
   "metadata": {},
   "outputs": [],
   "source": [
    "# Function for loading dataset\n",
    "def load_dataset():\n",
    "    \n",
    "    # load training set\n",
    "    train_dataset = h5py.File('datasets/train_signs.h5', \"r\")\n",
    "    train_x_raw = np.array(train_dataset[\"train_set_x\"][:])\n",
    "    train_y_raw = np.array(train_dataset[\"train_set_y\"][:])\n",
    "    \n",
    "    # load test set\n",
    "    test_dataset = h5py.File('datasets/test_signs.h5', \"r\")\n",
    "    test_x_raw = np.array(test_dataset[\"test_set_x\"][:])\n",
    "    test_y_raw = np.array(test_dataset[\"test_set_y\"][:])\n",
    "    \n",
    "    # get list of classes (0 to 5)\n",
    "    classes = np.array(test_dataset[\"list_classes\"][:])\n",
    "    \n",
    "    # reshape y sets into [1, # of samples]\n",
    "    train_y_raw = train_y_raw.reshape((1, train_y_raw.shape[0]))\n",
    "    test_y_raw = test_y_raw.reshape((1, test_y_raw.shape[0]))\n",
    "    \n",
    "    return train_x_raw, train_y_raw, test_x_raw, test_y_raw, classes"
   ]
  },
  {
   "cell_type": "code",
   "execution_count": null,
   "metadata": {},
   "outputs": [],
   "source": [
    "# Load data\n",
    "X_train_raw, Y_train_raw, X_test_raw, Y_test_raw, classes = load_dataset()"
   ]
  },
  {
   "cell_type": "code",
   "execution_count": null,
   "metadata": {},
   "outputs": [],
   "source": [
    "# Function for one-hot-encoding Y datasets\n",
    "def one_hot_encode(Y, num_classes):\n",
    "    Y = np.eye(num_classes)[Y.reshape(-1)].T\n",
    "    return Y"
   ]
  },
  {
   "cell_type": "code",
   "execution_count": null,
   "metadata": {},
   "outputs": [],
   "source": [
    "# Normalize X datasets (255 RGB values)\n",
    "X_train = X_train_raw / 255\n",
    "X_test = X_test_raw / 255\n",
    "\n",
    "# One-Hot Encode Y datasets\n",
    "Y_train = one_hot_encode(Y_train_raw, 6).T\n",
    "Y_test = one_hot_encode(Y_test_raw, 6).T"
   ]
  }
 ],
 "metadata": {
  "kernelspec": {
   "display_name": "Python 3",
   "language": "python",
   "name": "python3"
  },
  "language_info": {
   "codemirror_mode": {
    "name": "ipython",
    "version": 3
   },
   "file_extension": ".py",
   "mimetype": "text/x-python",
   "name": "python",
   "nbconvert_exporter": "python",
   "pygments_lexer": "ipython3",
   "version": "3.7.6"
  }
 },
 "nbformat": 4,
 "nbformat_minor": 4
}
