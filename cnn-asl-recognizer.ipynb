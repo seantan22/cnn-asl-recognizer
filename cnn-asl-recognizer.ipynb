{
 "cells": [
  {
   "cell_type": "code",
   "execution_count": 277,
   "metadata": {},
   "outputs": [],
   "source": [
    "import math\n",
    "import numpy as np\n",
    "import h5py\n",
    "import matplotlib.pyplot as plt\n",
    "import tensorflow.compat.v1 as tf\n",
    "tf.disable_v2_behavior()\n",
    "from tensorflow.python.framework import ops\n",
    "import tensorflow.keras as keras\n",
    "\n",
    "np.random.seed(1)"
   ]
  },
  {
   "cell_type": "code",
   "execution_count": null,
   "metadata": {},
   "outputs": [],
   "source": [
    "# Function for loading dataset\n",
    "def load_dataset():\n",
    "    \n",
    "    # load training set\n",
    "    train_dataset = h5py.File('datasets/train_signs.h5', \"r\")\n",
    "    train_x_raw = np.array(train_dataset[\"train_set_x\"][:])\n",
    "    train_y_raw = np.array(train_dataset[\"train_set_y\"][:])\n",
    "    \n",
    "    # load test set\n",
    "    test_dataset = h5py.File('datasets/test_signs.h5', \"r\")\n",
    "    test_x_raw = np.array(test_dataset[\"test_set_x\"][:])\n",
    "    test_y_raw = np.array(test_dataset[\"test_set_y\"][:])\n",
    "    \n",
    "    # get list of classes (0 to 5)\n",
    "    classes = np.array(test_dataset[\"list_classes\"][:])\n",
    "    \n",
    "    # reshape y sets into [1, # of samples]\n",
    "    train_y_raw = train_y_raw.reshape((1, train_y_raw.shape[0]))\n",
    "    test_y_raw = test_y_raw.reshape((1, test_y_raw.shape[0]))\n",
    "    \n",
    "    return train_x_raw, train_y_raw, test_x_raw, test_y_raw, classes"
   ]
  },
  {
   "cell_type": "code",
   "execution_count": null,
   "metadata": {},
   "outputs": [],
   "source": [
    "# Load data\n",
    "X_train_raw, Y_train_raw, X_test_raw, Y_test_raw, classes = load_dataset()"
   ]
  },
  {
   "cell_type": "code",
   "execution_count": null,
   "metadata": {},
   "outputs": [],
   "source": [
    "# Function for one-hot-encoding Y datasets\n",
    "def one_hot_encode(Y, num_classes):\n",
    "    Y = np.eye(num_classes)[Y.reshape(-1)].T\n",
    "    return Y"
   ]
  },
  {
   "cell_type": "code",
   "execution_count": null,
   "metadata": {},
   "outputs": [],
   "source": [
    "# Normalize X datasets (255 RGB values)\n",
    "X_train = X_train_raw / 255\n",
    "X_test = X_test_raw / 255\n",
    "\n",
    "# One-Hot Encode Y datasets\n",
    "Y_train = one_hot_encode(Y_train_raw, 6).T\n",
    "Y_test = one_hot_encode(Y_test_raw, 6).T"
   ]
  },
  {
   "cell_type": "code",
   "execution_count": null,
   "metadata": {},
   "outputs": [],
   "source": [
    "# Function for initializing placeholders X, Y \n",
    "def init_placeholders(n_h_raw, n_w_raw, n_c_raw, n_y_raw):\n",
    "    \n",
    "    X = tf.placeholder(tf.float32, shape=(None, n_h_raw, n_w_raw, n_c_raw), name=\"X\")\n",
    "    Y = tf.placeholder(tf.float32, shape=(None, n_y_raw), name=\"Y\")\n",
    "    \n",
    "    return X, Y"
   ]
  },
  {
   "cell_type": "code",
   "execution_count": null,
   "metadata": {},
   "outputs": [],
   "source": [
    "# Function for initializing parameters W1, W2 using xavier/GlorotUniform initialization\n",
    "def init_parameters(w1_hw, w1_c, w1_n, w2_hw, w2_c, w2_n):\n",
    "    \n",
    "    tf.set_random_seed(1)\n",
    "    \n",
    "    W1 = tf.get_variable(\"W1\", [w1_hw, w1_hw, w1_c, w1_n], initializer = keras.initializers.GlorotUniform(seed=0))\n",
    "    W2 = tf.get_variable(\"W2\", [w2_hw, w2_hw, w2_c, w2_n], initializer = keras.initializers.GlorotUniform(seed=0))\n",
    "    \n",
    "    parameters = {\"W1\" : W1, \n",
    "                  \"W2\" : W2}\n",
    "    \n",
    "    return parameters"
   ]
  },
  {
   "cell_type": "code",
   "execution_count": null,
   "metadata": {},
   "outputs": [],
   "source": [
    "# Function for forward propagation\n",
    "def fwd_prop(X, parameters):\n",
    "    \n",
    "    # Get parameters\n",
    "    W1 = parameters[\"W1\"]\n",
    "    W2 = parameters[\"W2\"]\n",
    "    \n",
    "    ### LAYER I ###\n",
    "    # 2D Convolutional\n",
    "    Z1 = tf.nn.conv2d(X, W1, strides=[1,1,1,1], padding=\"SAME\")\n",
    "    # ReLU\n",
    "    A1 = tf.nn.relu(Z1)\n",
    "    # Max Pooling\n",
    "    P1 = tf.nn.max_pool(A1, ksize=[1,8,8,1], strides=[1,8,8,1], padding=\"SAME\")\n",
    "    \n",
    "    ### LAYER II ###\n",
    "    # 2D Convolutional\n",
    "    Z2 = tf.nn.conv2d(P1, W2, strides=[1,1,1,1], padding=\"SAME\")\n",
    "    # ReLU\n",
    "    A2 = tf.nn.relu(Z2)\n",
    "    # Max Pooling\n",
    "    P2 = tf.nn.max_pool(A2, ksize=[1,4,4,1], strides=[1,4,4,1], padding=\"SAME\")\n",
    "    \n",
    "    ### LAYER III ###\n",
    "    # Flatten\n",
    "    F = keras.layers.Flatten()(P2)\n",
    "    # Fully-Connected\n",
    "    Z3 = keras.layers.Dense(6, activation=None)(F)\n",
    "\n",
    "    return Z3"
   ]
  },
  {
   "cell_type": "code",
   "execution_count": null,
   "metadata": {},
   "outputs": [],
   "source": [
    "# Compute the cost\n",
    "def compute_cost(Z3, Y):\n",
    "    \n",
    "    cost = tf.reduce_mean(tf.nn.softmax_cross_entropy_with_logits(logits=Z3, labels=Y))\n",
    "    \n",
    "    return cost"
   ]
  },
  {
   "cell_type": "code",
   "execution_count": null,
   "metadata": {},
   "outputs": [],
   "source": []
  }
 ],
 "metadata": {
  "kernelspec": {
   "display_name": "Python 3",
   "language": "python",
   "name": "python3"
  },
  "language_info": {
   "codemirror_mode": {
    "name": "ipython",
    "version": 3
   },
   "file_extension": ".py",
   "mimetype": "text/x-python",
   "name": "python",
   "nbconvert_exporter": "python",
   "pygments_lexer": "ipython3",
   "version": "3.7.6"
  }
 },
 "nbformat": 4,
 "nbformat_minor": 4
}
